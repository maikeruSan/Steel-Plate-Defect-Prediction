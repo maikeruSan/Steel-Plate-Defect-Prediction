{
 "cells": [
  {
   "cell_type": "code",
   "execution_count": 1,
   "id": "d82fefe0",
   "metadata": {
    "_cell_guid": "b1076dfc-b9ad-4769-8c92-a6c4dae69d19",
    "_uuid": "8f2839f25d086af736a60e9eeb907d3b93b6e0e5",
    "execution": {
     "iopub.execute_input": "2024-05-13T08:38:50.029662Z",
     "iopub.status.busy": "2024-05-13T08:38:50.029353Z",
     "iopub.status.idle": "2024-05-13T08:39:06.629177Z",
     "shell.execute_reply": "2024-05-13T08:39:06.628065Z"
    },
    "papermill": {
     "duration": 16.608741,
     "end_time": "2024-05-13T08:39:06.632222",
     "exception": false,
     "start_time": "2024-05-13T08:38:50.023481",
     "status": "completed"
    },
    "tags": []
   },
   "outputs": [
    {
     "name": "stderr",
     "output_type": "stream",
     "text": [
      "2024-05-13 08:38:59.109126: E external/local_xla/xla/stream_executor/cuda/cuda_dnn.cc:9261] Unable to register cuDNN factory: Attempting to register factory for plugin cuDNN when one has already been registered\n",
      "2024-05-13 08:38:59.109253: E external/local_xla/xla/stream_executor/cuda/cuda_fft.cc:607] Unable to register cuFFT factory: Attempting to register factory for plugin cuFFT when one has already been registered\n",
      "2024-05-13 08:38:59.190130: E external/local_xla/xla/stream_executor/cuda/cuda_blas.cc:1515] Unable to register cuBLAS factory: Attempting to register factory for plugin cuBLAS when one has already been registered\n"
     ]
    }
   ],
   "source": [
    "import numpy as np # linear algebra\n",
    "import pandas as pd # data processing, CSV file I/O (e.g. pd.read_csv)\n",
    "import polars as pl\n",
    "# Huggin Face \n",
    "from transformers import (\n",
    "    AutoTokenizer, \n",
    "    AutoConfig,\n",
    "    AutoModelForSequenceClassification, \n",
    "    Trainer, \n",
    "    TrainingArguments, \n",
    "    DataCollatorWithPadding\n",
    ")\n",
    "from tokenizers import AddedToken\n",
    "\n",
    "from datasets import Dataset\n",
    "# scikit-learn\n",
    "from sklearn.metrics import accuracy_score\n",
    "from sklearn.model_selection import StratifiedKFold\n",
    "\n",
    "from typing import Tuple,List"
   ]
  },
  {
   "cell_type": "code",
   "execution_count": 2,
   "id": "488f0406",
   "metadata": {
    "collapsed": true,
    "execution": {
     "iopub.execute_input": "2024-05-13T08:39:06.644450Z",
     "iopub.status.busy": "2024-05-13T08:39:06.643840Z",
     "iopub.status.idle": "2024-05-13T08:39:19.683421Z",
     "shell.execute_reply": "2024-05-13T08:39:19.682256Z"
    },
    "jupyter": {
     "outputs_hidden": true
    },
    "papermill": {
     "duration": 13.047808,
     "end_time": "2024-05-13T08:39:19.685792",
     "exception": false,
     "start_time": "2024-05-13T08:39:06.637984",
     "status": "completed"
    },
    "tags": []
   },
   "outputs": [
    {
     "name": "stdout",
     "output_type": "stream",
     "text": [
      "Requirement already satisfied: optuna in /opt/conda/lib/python3.10/site-packages (3.6.1)\r\n",
      "Requirement already satisfied: alembic>=1.5.0 in /opt/conda/lib/python3.10/site-packages (from optuna) (1.13.1)\r\n",
      "Requirement already satisfied: colorlog in /opt/conda/lib/python3.10/site-packages (from optuna) (6.8.2)\r\n",
      "Requirement already satisfied: numpy in /opt/conda/lib/python3.10/site-packages (from optuna) (1.26.4)\r\n",
      "Requirement already satisfied: packaging>=20.0 in /opt/conda/lib/python3.10/site-packages (from optuna) (21.3)\r\n",
      "Requirement already satisfied: sqlalchemy>=1.3.0 in /opt/conda/lib/python3.10/site-packages (from optuna) (2.0.25)\r\n",
      "Requirement already satisfied: tqdm in /opt/conda/lib/python3.10/site-packages (from optuna) (4.66.1)\r\n",
      "Requirement already satisfied: PyYAML in /opt/conda/lib/python3.10/site-packages (from optuna) (6.0.1)\r\n",
      "Requirement already satisfied: Mako in /opt/conda/lib/python3.10/site-packages (from alembic>=1.5.0->optuna) (1.3.3)\r\n",
      "Requirement already satisfied: typing-extensions>=4 in /opt/conda/lib/python3.10/site-packages (from alembic>=1.5.0->optuna) (4.9.0)\r\n",
      "Requirement already satisfied: pyparsing!=3.0.5,>=2.0.2 in /opt/conda/lib/python3.10/site-packages (from packaging>=20.0->optuna) (3.1.1)\r\n",
      "Requirement already satisfied: greenlet!=0.4.17 in /opt/conda/lib/python3.10/site-packages (from sqlalchemy>=1.3.0->optuna) (3.0.3)\r\n",
      "Requirement already satisfied: MarkupSafe>=0.9.2 in /opt/conda/lib/python3.10/site-packages (from Mako->alembic>=1.5.0->optuna) (2.1.3)\r\n"
     ]
    }
   ],
   "source": [
    "! pip install optuna"
   ]
  },
  {
   "cell_type": "code",
   "execution_count": 3,
   "id": "6250333e",
   "metadata": {
    "collapsed": true,
    "execution": {
     "iopub.execute_input": "2024-05-13T08:39:19.695356Z",
     "iopub.status.busy": "2024-05-13T08:39:19.695031Z",
     "iopub.status.idle": "2024-05-13T08:39:32.101661Z",
     "shell.execute_reply": "2024-05-13T08:39:32.100649Z"
    },
    "jupyter": {
     "outputs_hidden": true
    },
    "papermill": {
     "duration": 12.414045,
     "end_time": "2024-05-13T08:39:32.104055",
     "exception": false,
     "start_time": "2024-05-13T08:39:19.690010",
     "status": "completed"
    },
    "tags": []
   },
   "outputs": [
    {
     "name": "stdout",
     "output_type": "stream",
     "text": [
      "Requirement already satisfied: ray[tune] in /opt/conda/lib/python3.10/site-packages (2.9.0)\r\n",
      "Requirement already satisfied: click>=7.0 in /opt/conda/lib/python3.10/site-packages (from ray[tune]) (8.1.7)\r\n",
      "Requirement already satisfied: filelock in /opt/conda/lib/python3.10/site-packages (from ray[tune]) (3.13.1)\r\n",
      "Requirement already satisfied: jsonschema in /opt/conda/lib/python3.10/site-packages (from ray[tune]) (4.20.0)\r\n",
      "Requirement already satisfied: msgpack<2.0.0,>=1.0.0 in /opt/conda/lib/python3.10/site-packages (from ray[tune]) (1.0.7)\r\n",
      "Requirement already satisfied: packaging in /opt/conda/lib/python3.10/site-packages (from ray[tune]) (21.3)\r\n",
      "Requirement already satisfied: protobuf!=3.19.5,>=3.15.3 in /opt/conda/lib/python3.10/site-packages (from ray[tune]) (3.20.3)\r\n",
      "Requirement already satisfied: pyyaml in /opt/conda/lib/python3.10/site-packages (from ray[tune]) (6.0.1)\r\n",
      "Requirement already satisfied: aiosignal in /opt/conda/lib/python3.10/site-packages (from ray[tune]) (1.3.1)\r\n",
      "Requirement already satisfied: frozenlist in /opt/conda/lib/python3.10/site-packages (from ray[tune]) (1.4.1)\r\n",
      "Requirement already satisfied: requests in /opt/conda/lib/python3.10/site-packages (from ray[tune]) (2.31.0)\r\n",
      "Requirement already satisfied: pandas in /opt/conda/lib/python3.10/site-packages (from ray[tune]) (2.1.4)\r\n",
      "Requirement already satisfied: tensorboardX>=1.9 in /opt/conda/lib/python3.10/site-packages (from ray[tune]) (2.6.2.2)\r\n",
      "Requirement already satisfied: pyarrow>=6.0.1 in /opt/conda/lib/python3.10/site-packages (from ray[tune]) (15.0.2)\r\n",
      "Requirement already satisfied: fsspec in /opt/conda/lib/python3.10/site-packages (from ray[tune]) (2024.2.0)\r\n",
      "Requirement already satisfied: numpy<2,>=1.16.6 in /opt/conda/lib/python3.10/site-packages (from pyarrow>=6.0.1->ray[tune]) (1.26.4)\r\n",
      "Requirement already satisfied: attrs>=22.2.0 in /opt/conda/lib/python3.10/site-packages (from jsonschema->ray[tune]) (23.2.0)\r\n",
      "Requirement already satisfied: jsonschema-specifications>=2023.03.6 in /opt/conda/lib/python3.10/site-packages (from jsonschema->ray[tune]) (2023.12.1)\r\n",
      "Requirement already satisfied: referencing>=0.28.4 in /opt/conda/lib/python3.10/site-packages (from jsonschema->ray[tune]) (0.32.1)\r\n",
      "Requirement already satisfied: rpds-py>=0.7.1 in /opt/conda/lib/python3.10/site-packages (from jsonschema->ray[tune]) (0.16.2)\r\n",
      "Requirement already satisfied: pyparsing!=3.0.5,>=2.0.2 in /opt/conda/lib/python3.10/site-packages (from packaging->ray[tune]) (3.1.1)\r\n",
      "Requirement already satisfied: python-dateutil>=2.8.2 in /opt/conda/lib/python3.10/site-packages (from pandas->ray[tune]) (2.9.0.post0)\r\n",
      "Requirement already satisfied: pytz>=2020.1 in /opt/conda/lib/python3.10/site-packages (from pandas->ray[tune]) (2023.3.post1)\r\n",
      "Requirement already satisfied: tzdata>=2022.1 in /opt/conda/lib/python3.10/site-packages (from pandas->ray[tune]) (2023.4)\r\n",
      "Requirement already satisfied: charset-normalizer<4,>=2 in /opt/conda/lib/python3.10/site-packages (from requests->ray[tune]) (3.3.2)\r\n",
      "Requirement already satisfied: idna<4,>=2.5 in /opt/conda/lib/python3.10/site-packages (from requests->ray[tune]) (3.6)\r\n",
      "Requirement already satisfied: urllib3<3,>=1.21.1 in /opt/conda/lib/python3.10/site-packages (from requests->ray[tune]) (1.26.18)\r\n",
      "Requirement already satisfied: certifi>=2017.4.17 in /opt/conda/lib/python3.10/site-packages (from requests->ray[tune]) (2024.2.2)\r\n",
      "Requirement already satisfied: six>=1.5 in /opt/conda/lib/python3.10/site-packages (from python-dateutil>=2.8.2->pandas->ray[tune]) (1.16.0)\r\n"
     ]
    }
   ],
   "source": [
    "! pip install ray[tune]"
   ]
  },
  {
   "cell_type": "code",
   "execution_count": 4,
   "id": "3680feb8",
   "metadata": {
    "execution": {
     "iopub.execute_input": "2024-05-13T08:39:32.115303Z",
     "iopub.status.busy": "2024-05-13T08:39:32.114712Z",
     "iopub.status.idle": "2024-05-13T08:39:32.124446Z",
     "shell.execute_reply": "2024-05-13T08:39:32.123622Z"
    },
    "papermill": {
     "duration": 0.017448,
     "end_time": "2024-05-13T08:39:32.126333",
     "exception": false,
     "start_time": "2024-05-13T08:39:32.108885",
     "status": "completed"
    },
    "tags": []
   },
   "outputs": [],
   "source": [
    "class Tokenize(object):\n",
    "    def __init__(self, train, valid, tokenizer,max_length):\n",
    "        self.tokenizer = tokenizer\n",
    "        self.train = train\n",
    "        self.valid = valid\n",
    "        self.max_length = max_length\n",
    "        \n",
    "    def get_dataset(self, df):\n",
    "        ds = Dataset.from_dict({\n",
    "                'essay_id': [e for e in df['essay_id']],\n",
    "                'full_text': [ft for ft in df['full_text']],\n",
    "                'label': [s for s in df['label']],\n",
    "            })\n",
    "        return ds\n",
    "        \n",
    "    def tokenize_function(self, example):\n",
    "        tokenized_inputs = self.tokenizer(\n",
    "            example['full_text'], truncation=True, max_length=self.max_length,\n",
    "        )\n",
    "        return tokenized_inputs\n",
    "    \n",
    "    def __call__(self):\n",
    "        train_ds = self.get_dataset(self.train)\n",
    "        valid_ds = self.get_dataset(self.valid)\n",
    "        \n",
    "        tokenized_train = train_ds.map(\n",
    "            self.tokenize_function, batched=True\n",
    "        )\n",
    "        tokenized_valid = valid_ds.map(\n",
    "            self.tokenize_function, batched=True\n",
    "        )\n",
    "        \n",
    "        return tokenized_train, tokenized_valid, self.tokenizer"
   ]
  },
  {
   "cell_type": "code",
   "execution_count": 5,
   "id": "16afe214",
   "metadata": {
    "execution": {
     "iopub.execute_input": "2024-05-13T08:39:32.136551Z",
     "iopub.status.busy": "2024-05-13T08:39:32.136058Z",
     "iopub.status.idle": "2024-05-13T08:39:32.148774Z",
     "shell.execute_reply": "2024-05-13T08:39:32.147928Z"
    },
    "papermill": {
     "duration": 0.019943,
     "end_time": "2024-05-13T08:39:32.150640",
     "exception": false,
     "start_time": "2024-05-13T08:39:32.130697",
     "status": "completed"
    },
    "tags": []
   },
   "outputs": [],
   "source": [
    "class AESTraining:\n",
    "    \n",
    "    GOOGLE_BERT_BASE_CASED:str = \"google-bert/bert-base-cased\"\n",
    "    METRIC_NAME:str = \"qwk\"\n",
    "    NUMBER_OF_LABEL:int = 6\n",
    "    #MODEL_NAME:List[str]=[AESTraining.GOOGLE_BERT_BASE_CASED]\n",
    "        \n",
    "    def __init__(self,\n",
    "                 model_name:str,\n",
    "                 metric_name:str,\n",
    "                 number_of_label:int,\n",
    "                 learning_rate:float,\n",
    "                 token_max_len:int,\n",
    "                 batch_siz:int,\n",
    "                 weight_decay:float,\n",
    "                 train_epochs:int,\n",
    "                 optim:str\n",
    "                 ):\n",
    "        self.model_name = model_name\n",
    "        self.metric_name = model_name\n",
    "        self.token_max_len = token_max_len\n",
    "        self.batch_size = batch_siz\n",
    "        self.learning_rate = learning_rate\n",
    "        self.train_epochs = train_epochs\n",
    "        self.weight_decay = weight_decay\n",
    "        self.number_of_label = number_of_label\n",
    "        self.optim = optim\n",
    "        \n",
    "    #@staticmethod\n",
    "    #def read_train_csv(path:str=\"/kaggle/input/learning-agency-lab-automated-essay-scoring-2/train.csv\")->pl.DataFrame:\n",
    "    #    return pl.read_csv(path)\n",
    "\n",
    " \n",
    "    @staticmethod\n",
    "    def df(path:str=\"/kaggle/input/learning-agency-lab-automated-essay-scoring-2/train.csv\", \n",
    "              n_splits:int = 5, \n",
    "              label_col_name: str = \"score\",\n",
    "              random_state: int = 42) ->pd.DataFrame:\n",
    "\n",
    "        skf = StratifiedKFold(n_splits=n_splits, shuffle=True, random_state=random_state)\n",
    "        data = pd.read_csv(path)\n",
    "        data['label'] = data['score'].apply(lambda x: x-1)\n",
    "        for i, (_, val_index) in enumerate(skf.split(data, data[label_col_name])):\n",
    "            data.loc[val_index, \"fold\"] = i\n",
    "        return data\n",
    "        \n",
    "    def init_model(self):\n",
    "        config = AutoConfig.from_pretrained(self.model_name)\n",
    "        config.num_labels = self.number_of_label\n",
    "        return AutoModelForSequenceClassification.from_pretrained(self.model_name,num_labels=self.number_of_label)\n",
    "        \n",
    "    def tokenizer(self):\n",
    "        return AutoTokenizer.from_pretrained(self.model_name)\n",
    "        \n",
    "    \n",
    "    def default_training_Ars(self)->TrainingArguments:\n",
    "        return TrainingArguments(\n",
    "            f\"{self.model_name}-finetuned\",\n",
    "            evaluation_strategy = \"epoch\",\n",
    "            save_strategy = \"epoch\",\n",
    "            learning_rate= self.learning_rate ,#2e-5,\n",
    "            per_device_train_batch_size=self.batch_size,\n",
    "            per_device_eval_batch_size=self.batch_size,\n",
    "            num_train_epochs=self.train_epochs,\n",
    "            weight_decay= self.weight_decay, #0.01,\n",
    "            load_best_model_at_end=True,\n",
    "            metric_for_best_model=self.metric_name,\n",
    "            push_to_hub=False,\n",
    "            optim=self.optim,\n",
    "        )\n",
    "    \n"
   ]
  },
  {
   "cell_type": "code",
   "execution_count": 6,
   "id": "34064e7b",
   "metadata": {
    "execution": {
     "iopub.execute_input": "2024-05-13T08:39:32.160767Z",
     "iopub.status.busy": "2024-05-13T08:39:32.160510Z",
     "iopub.status.idle": "2024-05-13T08:39:32.947861Z",
     "shell.execute_reply": "2024-05-13T08:39:32.947061Z"
    },
    "papermill": {
     "duration": 0.795176,
     "end_time": "2024-05-13T08:39:32.950262",
     "exception": false,
     "start_time": "2024-05-13T08:39:32.155086",
     "status": "completed"
    },
    "tags": []
   },
   "outputs": [],
   "source": [
    "aes_training = AESTraining(model_name=\"/kaggle/input/huggingfacedebertav3variants/deberta-v3-base\",\n",
    "                           metric_name=AESTraining.METRIC_NAME,\n",
    "                           number_of_label=AESTraining.NUMBER_OF_LABEL,\n",
    "                           learning_rate=2e-5,\n",
    "                           token_max_len=1024,\n",
    "                           batch_siz=16,\n",
    "                           weight_decay=0.01,\n",
    "                           train_epochs=5,\n",
    "                           optim=\"adamw_torch\",\n",
    "                          )\n",
    "data : pd.DataFrame = aes_training.df()"
   ]
  },
  {
   "cell_type": "code",
   "execution_count": 7,
   "id": "c9dabc6e",
   "metadata": {
    "execution": {
     "iopub.execute_input": "2024-05-13T08:39:32.960964Z",
     "iopub.status.busy": "2024-05-13T08:39:32.960248Z",
     "iopub.status.idle": "2024-05-13T08:39:32.966209Z",
     "shell.execute_reply": "2024-05-13T08:39:32.965366Z"
    },
    "papermill": {
     "duration": 0.013214,
     "end_time": "2024-05-13T08:39:32.968093",
     "exception": false,
     "start_time": "2024-05-13T08:39:32.954879",
     "status": "completed"
    },
    "tags": []
   },
   "outputs": [],
   "source": [
    "def compute_metrics(eval_pred):\n",
    "    \n",
    "    predictions, labels = eval_pred\n",
    "    qwk = cohen_kappa_score(labels, predictions.argmax(-1), weights='quadratic')\n",
    "    results = {\n",
    "        'qwk': qwk\n",
    "    }\n",
    "    return results\n",
    "\n",
    "def optuna_hp_space(trial):\n",
    "    return {\n",
    "        \"learning_rate\": trial.suggest_float(\"learning_rate\", 1e-6, 1e-4, log=True),\n",
    "        \"per_device_train_batch_size\": trial.suggest_categorical(\"per_device_train_batch_size\", [16, 32, 64, 128]),\n",
    "    }"
   ]
  },
  {
   "cell_type": "code",
   "execution_count": 8,
   "id": "90009c48",
   "metadata": {
    "execution": {
     "iopub.execute_input": "2024-05-13T08:39:32.977852Z",
     "iopub.status.busy": "2024-05-13T08:39:32.977378Z",
     "iopub.status.idle": "2024-05-13T08:39:32.986264Z",
     "shell.execute_reply": "2024-05-13T08:39:32.985414Z"
    },
    "papermill": {
     "duration": 0.015682,
     "end_time": "2024-05-13T08:39:32.988037",
     "exception": false,
     "start_time": "2024-05-13T08:39:32.972355",
     "status": "completed"
    },
    "tags": []
   },
   "outputs": [],
   "source": [
    "def search_hp():\n",
    "    best_runs = []\n",
    "    for fold in range(len(data['fold'].unique())):\n",
    "\n",
    "        train = data[data['fold'] != fold]\n",
    "        valid = data[data['fold'] == fold].copy()\n",
    "\n",
    "        tokenizer = aes_training.tokenizer()\n",
    "        tokenizer.add_tokens([AddedToken(\"\\n\", normalized=False)])\n",
    "        tokenizer.add_tokens([AddedToken(\" \"*2, normalized=False)])\n",
    "        tokenize = Tokenize(train, valid, tokenizer,aes_training.token_max_len)\n",
    "        tokenized_train, tokenized_valid, _ = tokenize()\n",
    "\n",
    "        # model = aes_training.init_model\n",
    "        data_collator = DataCollatorWithPadding(tokenizer=tokenizer)\n",
    "        \n",
    "        def init_model():\n",
    "            model_path = '/kaggle/input/huggingfacedebertav3variants/deberta-v3-base'\n",
    "            num_labels=6\n",
    "            return AutoModelForSequenceClassification.from_pretrained(model_path, num_labels=num_labels)\n",
    "        \n",
    "        \n",
    "        training_args = aes_training.default_training_Ars()\n",
    "        training_args.output_dir = '/kaggle/working/output' \n",
    "        \n",
    "\n",
    "        trainer = Trainer(\n",
    "            model=None,\n",
    "            args=training_args,\n",
    "            train_dataset=tokenized_train,\n",
    "            eval_dataset=tokenized_valid,\n",
    "            compute_metrics=compute_metrics,\n",
    "            tokenizer=tokenizer,\n",
    "            model_init=init_model,\n",
    "            data_collator=data_collator,\n",
    "        )\n",
    "\n",
    "        best_run = trainer.hyperparameter_search(n_trials=1, direction=\"maximize\",backend=\"optuna\",hp_space=optuna_hp_space,)  \n",
    "        best_runs.appenda(best_run)\n",
    "        \n",
    "    return best_runs\n",
    "    "
   ]
  },
  {
   "cell_type": "code",
   "execution_count": 9,
   "id": "1136ed51",
   "metadata": {
    "execution": {
     "iopub.execute_input": "2024-05-13T08:39:32.997520Z",
     "iopub.status.busy": "2024-05-13T08:39:32.997259Z",
     "iopub.status.idle": "2024-05-13T08:39:33.000952Z",
     "shell.execute_reply": "2024-05-13T08:39:33.000152Z"
    },
    "papermill": {
     "duration": 0.010461,
     "end_time": "2024-05-13T08:39:33.002774",
     "exception": false,
     "start_time": "2024-05-13T08:39:32.992313",
     "status": "completed"
    },
    "tags": []
   },
   "outputs": [],
   "source": [
    "# search_hp()"
   ]
  }
 ],
 "metadata": {
  "kaggle": {
   "accelerator": "nvidiaTeslaT4",
   "dataSources": [
    {
     "databundleVersionId": 8059942,
     "sourceId": 71485,
     "sourceType": "competition"
    },
    {
     "datasetId": 2663421,
     "sourceId": 4620664,
     "sourceType": "datasetVersion"
    }
   ],
   "isGpuEnabled": true,
   "isInternetEnabled": true,
   "language": "python",
   "sourceType": "notebook"
  },
  "kernelspec": {
   "display_name": "Python 3",
   "language": "python",
   "name": "python3"
  },
  "language_info": {
   "codemirror_mode": {
    "name": "ipython",
    "version": 3
   },
   "file_extension": ".py",
   "mimetype": "text/x-python",
   "name": "python",
   "nbconvert_exporter": "python",
   "pygments_lexer": "ipython3",
   "version": "3.10.13"
  },
  "papermill": {
   "default_parameters": {},
   "duration": 48.063992,
   "end_time": "2024-05-13T08:39:35.506428",
   "environment_variables": {},
   "exception": null,
   "input_path": "__notebook__.ipynb",
   "output_path": "__notebook__.ipynb",
   "parameters": {},
   "start_time": "2024-05-13T08:38:47.442436",
   "version": "2.5.0"
  }
 },
 "nbformat": 4,
 "nbformat_minor": 5
}
