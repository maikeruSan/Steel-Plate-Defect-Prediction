{
 "cells": [
  {
   "cell_type": "code",
   "execution_count": 17,
   "id": "b67c900d",
   "metadata": {
    "_cell_guid": "b1076dfc-b9ad-4769-8c92-a6c4dae69d19",
    "_uuid": "8f2839f25d086af736a60e9eeb907d3b93b6e0e5",
    "execution": {
     "iopub.execute_input": "2024-03-07T11:06:18.208287Z",
     "iopub.status.busy": "2024-03-07T11:06:18.207908Z",
     "iopub.status.idle": "2024-03-07T11:06:22.825516Z",
     "shell.execute_reply": "2024-03-07T11:06:22.824284Z"
    },
    "papermill": {
     "duration": 4.624847,
     "end_time": "2024-03-07T11:06:22.828224",
     "exception": false,
     "start_time": "2024-03-07T11:06:18.203377",
     "status": "completed"
    },
    "tags": []
   },
   "outputs": [
    {
     "data": {
      "text/plain": [
       "polars.config.Config"
      ]
     },
     "execution_count": 17,
     "metadata": {},
     "output_type": "execute_result"
    }
   ],
   "source": [
    "from catboost import CatBoostClassifier\n",
    "from sklearn.model_selection import train_test_split\n",
    "from sklearn.metrics import roc_auc_score\n",
    "from sklearn.preprocessing import LabelEncoder\n",
    "\n",
    "import polars as pl\n",
    "import pandas as pd\n",
    "import numpy as np\n",
    "\n",
    "import optuna\n",
    "from optuna.integration import CatBoostPruningCallback\n",
    "\n",
    "pl.Config().set_tbl_cols(128)\n",
    "pl.Config().set_tbl_rows(50)"
   ]
  },
  {
   "cell_type": "code",
   "execution_count": 3,
   "id": "7d9d7c38",
   "metadata": {},
   "outputs": [],
   "source": [
    "base = \"/home/michael/Datasets/playground-series-s4e3\"\n",
    "# base = \"/kaggle/input/playground-series-s4e3\""
   ]
  },
  {
   "cell_type": "code",
   "execution_count": 4,
   "id": "cc40d676",
   "metadata": {
    "execution": {
     "iopub.execute_input": "2024-03-07T11:06:22.835600Z",
     "iopub.status.busy": "2024-03-07T11:06:22.835056Z",
     "iopub.status.idle": "2024-03-07T11:06:23.033372Z",
     "shell.execute_reply": "2024-03-07T11:06:23.032412Z"
    },
    "papermill": {
     "duration": 0.204841,
     "end_time": "2024-03-07T11:06:23.036007",
     "exception": false,
     "start_time": "2024-03-07T11:06:22.831166",
     "status": "completed"
    },
    "tags": []
   },
   "outputs": [],
   "source": [
    "data = pd.read_csv(f\"{base}/train.csv\")"
   ]
  },
  {
   "cell_type": "code",
   "execution_count": 5,
   "id": "4b03e2eb",
   "metadata": {},
   "outputs": [
    {
     "name": "stdout",
     "output_type": "stream",
     "text": [
      "shape: (11, 10)\n",
      "┌────────┬──────────┬──────────┬────────┬──────────┬───────┬──────────┬──────┬──────────┬──────────┐\n",
      "│ Pastry ┆ Z_Scratc ┆ K_Scatch ┆ Stains ┆ Dirtines ┆ Bumps ┆ Other_Fa ┆ Len  ┆ True_Lab ┆ Concated │\n",
      "│ ---    ┆ h        ┆ ---      ┆ ---    ┆ s        ┆ ---   ┆ ults     ┆ ---  ┆ el       ┆ _Label   │\n",
      "│ i64    ┆ ---      ┆ i64      ┆ i64    ┆ ---      ┆ i64   ┆ ---      ┆ u32  ┆ ---      ┆ ---      │\n",
      "│        ┆ i64      ┆          ┆        ┆ i64      ┆       ┆ i64      ┆      ┆ i64      ┆ str      │\n",
      "╞════════╪══════════╪══════════╪════════╪══════════╪═══════╪══════════╪══════╪══════════╪══════════╡\n",
      "│ 1      ┆ 0        ┆ 1        ┆ 0      ┆ 0        ┆ 0     ┆ 0        ┆ 1    ┆ 2        ┆ 1010000  │\n",
      "│ 0      ┆ 0        ┆ 1        ┆ 0      ┆ 0        ┆ 1     ┆ 0        ┆ 2    ┆ 2        ┆ 0010010  │\n",
      "│ 0      ┆ 0        ┆ 1        ┆ 0      ┆ 0        ┆ 0     ┆ 1        ┆ 18   ┆ 2        ┆ 0010001  │\n",
      "│ 0      ┆ 0        ┆ 0        ┆ 0      ┆ 1        ┆ 0     ┆ 0        ┆ 485  ┆ 1        ┆ 0000100  │\n",
      "│ 0      ┆ 0        ┆ 0        ┆ 1      ┆ 0        ┆ 0     ┆ 0        ┆ 568  ┆ 1        ┆ 0001000  │\n",
      "│ 0      ┆ 0        ┆ 0        ┆ 0      ┆ 0        ┆ 0     ┆ 0        ┆ 818  ┆ 0        ┆ 0000000  │\n",
      "│ 0      ┆ 1        ┆ 0        ┆ 0      ┆ 0        ┆ 0     ┆ 0        ┆ 1150 ┆ 1        ┆ 0100000  │\n",
      "│ 1      ┆ 0        ┆ 0        ┆ 0      ┆ 0        ┆ 0     ┆ 0        ┆ 1465 ┆ 1        ┆ 1000000  │\n",
      "│ 0      ┆ 0        ┆ 1        ┆ 0      ┆ 0        ┆ 0     ┆ 0        ┆ 3411 ┆ 1        ┆ 0010000  │\n",
      "│ 0      ┆ 0        ┆ 0        ┆ 0      ┆ 0        ┆ 1     ┆ 0        ┆ 4761 ┆ 1        ┆ 0000010  │\n",
      "│ 0      ┆ 0        ┆ 0        ┆ 0      ┆ 0        ┆ 0     ┆ 1        ┆ 6540 ┆ 1        ┆ 0000001  │\n",
      "└────────┴──────────┴──────────┴────────┴──────────┴───────┴──────────┴──────┴──────────┴──────────┘\n"
     ]
    }
   ],
   "source": [
    "labels = [\"Pastry\", \"Z_Scratch\", \"K_Scatch\", \"Stains\", \"Dirtiness\", \"Bumps\", \"Other_Faults\"]\n",
    "df = pl.DataFrame(data)\n",
    "\n",
    "print(\n",
    "    df.group_by(labels)\n",
    "    .agg(\n",
    "        [\n",
    "            pl.len().alias(\"Len\"),\n",
    "        ]\n",
    "    )\n",
    "    .with_columns([pl.sum_horizontal(labels).alias(\"True_Label\"), pl.concat_str(labels).alias(\"Concated_Label\")])\n",
    "    .sort(by=[\"Len\"])\n",
    ")"
   ]
  },
  {
   "cell_type": "code",
   "execution_count": 6,
   "id": "f601d2f9",
   "metadata": {},
   "outputs": [],
   "source": [
    "df = df.with_columns([pl.concat_str(labels).alias(\"Concated_Label\")]).filter(\n",
    "    [(pl.col(\"Concated_Label\") != \"1010000\") & (pl.col(\"Concated_Label\") != \"0010010\")]\n",
    ")\n",
    "data = df.to_pandas()"
   ]
  },
  {
   "cell_type": "code",
   "execution_count": 21,
   "id": "51563143",
   "metadata": {
    "execution": {
     "iopub.execute_input": "2024-03-07T11:06:23.042558Z",
     "iopub.status.busy": "2024-03-07T11:06:23.042185Z",
     "iopub.status.idle": "2024-03-07T11:06:23.160209Z",
     "shell.execute_reply": "2024-03-07T11:06:23.159219Z"
    },
    "papermill": {
     "duration": 0.124268,
     "end_time": "2024-03-07T11:06:23.162890",
     "exception": false,
     "start_time": "2024-03-07T11:06:23.038622",
     "status": "completed"
    },
    "tags": []
   },
   "outputs": [],
   "source": [
    "# Separate features and labels\n",
    "X = data.drop([\"id\", \"Pastry\", \"Z_Scratch\", \"K_Scatch\", \"Stains\", \"Dirtiness\", \"Bumps\", \"Other_Faults\", \"Concated_Label\"], axis=1)\n",
    "y = data[[\"Concated_Label\"]]\n",
    "\n",
    "# Split the data into train and test sets\n",
    "X_optuna, X_test, y_optuna, y_test = train_test_split(X, y, test_size=0.1, stratify=y, random_state=42)"
   ]
  },
  {
   "cell_type": "code",
   "execution_count": 24,
   "id": "3817cf3c",
   "metadata": {
    "execution": {
     "iopub.execute_input": "2024-03-07T11:06:23.170261Z",
     "iopub.status.busy": "2024-03-07T11:06:23.169605Z",
     "iopub.status.idle": "2024-03-07T11:06:23.179541Z",
     "shell.execute_reply": "2024-03-07T11:06:23.178703Z"
    },
    "papermill": {
     "duration": 0.016131,
     "end_time": "2024-03-07T11:06:23.181792",
     "exception": false,
     "start_time": "2024-03-07T11:06:23.165661",
     "status": "completed"
    },
    "tags": []
   },
   "outputs": [],
   "source": [
    "def objective(trial):\n",
    "\n",
    "    X_opt, X_val, y_opt, y_val = train_test_split(X_optuna, y_optuna, test_size=0.1, stratify=y_optuna, random_state=42)\n",
    "\n",
    "    encoder = LabelEncoder()\n",
    "    y_opt = encoder.fit_transform(y_opt.values.ravel())\n",
    "    y_val = encoder.transform(y_val.values.ravel())\n",
    "\n",
    "    param = {\n",
    "        \"objective\": \"MultiClass\",\n",
    "        \"learning_rate\": trial.suggest_categorical(\n",
    "            \"learning_rate\",\n",
    "            [0.1, 0.01, 0.125, 0.005],\n",
    "        ),\n",
    "        \"iterations\": trial.suggest_categorical(\"iterations\", [200, 500, 1000, 2000]),\n",
    "        \"max_depth\": trial.suggest_categorical(\"max_depth\", [8, 10, 12, 16]),\n",
    "        \"task_type\": \"GPU\",\n",
    "    }\n",
    "\n",
    "    model = CatBoostClassifier(**param)\n",
    "    model.fit(X_opt, y_opt, eval_set=[(X_val, y_val)], early_stopping_rounds=100, verbose=100)\n",
    "\n",
    "    prediction_proba = model.predict_proba(X_val)\n",
    "    print(prediction_proba)\n",
    "    return roc_auc_score(y_val, prediction_proba, multi_class=\"ovr\", average=\"weighted\")"
   ]
  },
  {
   "cell_type": "code",
   "execution_count": 25,
   "id": "61682e99",
   "metadata": {
    "execution": {
     "iopub.execute_input": "2024-03-07T11:06:23.189029Z",
     "iopub.status.busy": "2024-03-07T11:06:23.188632Z",
     "iopub.status.idle": "2024-03-07T11:06:23.192855Z",
     "shell.execute_reply": "2024-03-07T11:06:23.191903Z"
    },
    "papermill": {
     "duration": 0.009943,
     "end_time": "2024-03-07T11:06:23.194937",
     "exception": false,
     "start_time": "2024-03-07T11:06:23.184994",
     "status": "completed"
    },
    "tags": []
   },
   "outputs": [
    {
     "name": "stderr",
     "output_type": "stream",
     "text": [
      "[I 2024-03-09 14:40:53,189] A new study created in memory with name: no-name-ecb346a3-ea74-46a6-b315-b5774abbc9f4\n"
     ]
    },
    {
     "name": "stdout",
     "output_type": "stream",
     "text": [
      "0:\tlearn: 1.9945551\ttotal: 127ms\tremaining: 4m 14s\n",
      "100:\tlearn: 0.6418501\ttotal: 12.4s\tremaining: 3m 53s\n",
      "200:\tlearn: 0.4201045\ttotal: 25s\tremaining: 3m 43s\n",
      "300:\tlearn: 0.2979044\ttotal: 37.2s\tremaining: 3m 29s\n",
      "400:\tlearn: 0.2245398\ttotal: 49.3s\tremaining: 3m 16s\n",
      "500:\tlearn: 0.1791184\ttotal: 1m 1s\tremaining: 3m 2s\n",
      "600:\tlearn: 0.1452307\ttotal: 1m 13s\tremaining: 2m 50s\n",
      "700:\tlearn: 0.1214090\ttotal: 1m 25s\tremaining: 2m 38s\n",
      "800:\tlearn: 0.1026538\ttotal: 1m 37s\tremaining: 2m 25s\n",
      "900:\tlearn: 0.0877505\ttotal: 1m 49s\tremaining: 2m 13s\n",
      "1000:\tlearn: 0.0766869\ttotal: 2m 1s\tremaining: 2m 1s\n",
      "1100:\tlearn: 0.0675605\ttotal: 2m 13s\tremaining: 1m 49s\n",
      "1200:\tlearn: 0.0601712\ttotal: 2m 25s\tremaining: 1m 36s\n",
      "1300:\tlearn: 0.0541783\ttotal: 2m 37s\tremaining: 1m 24s\n",
      "1400:\tlearn: 0.0492516\ttotal: 2m 49s\tremaining: 1m 12s\n",
      "1500:\tlearn: 0.0448442\ttotal: 3m 1s\tremaining: 1m\n",
      "1600:\tlearn: 0.0413596\ttotal: 3m 13s\tremaining: 48.2s\n",
      "1700:\tlearn: 0.0381796\ttotal: 3m 25s\tremaining: 36.1s\n",
      "1800:\tlearn: 0.0353035\ttotal: 3m 37s\tremaining: 24s\n",
      "1900:\tlearn: 0.0327192\ttotal: 3m 49s\tremaining: 12s\n",
      "1999:\tlearn: 0.0305131\ttotal: 4m 1s\tremaining: 0us\n"
     ]
    },
    {
     "name": "stderr",
     "output_type": "stream",
     "text": [
      "[I 2024-03-09 14:44:57,113] Trial 0 finished with value: 0.807631960703552 and parameters: {'learning_rate': 0.1, 'iterations': 2000, 'max_depth': 12}. Best is trial 0 with value: 0.807631960703552.\n"
     ]
    },
    {
     "name": "stdout",
     "output_type": "stream",
     "text": [
      "[[3.02015068e-03 2.39178507e-02 4.48476703e-04 ... 8.43228137e-05\n",
      "  2.89163913e-04 1.23394998e-04]\n",
      " [4.00098073e-04 2.33524932e-03 3.74923528e-06 ... 5.56968351e-07\n",
      "  2.70944539e-06 6.62141811e-07]\n",
      " [1.84155433e-03 6.95947859e-01 2.89058435e-01 ... 2.26364876e-05\n",
      "  1.76930812e-03 1.56251415e-04]\n",
      " ...\n",
      " [3.58387819e-03 6.39793773e-01 3.53858427e-01 ... 6.16202678e-05\n",
      "  8.03232731e-04 4.52593616e-04]\n",
      " [3.82331502e-04 4.57234999e-01 2.55940390e-01 ... 7.02079781e-06\n",
      "  1.88139378e-04 2.86040749e-01]\n",
      " [5.94610003e-02 5.33103171e-01 1.62614682e-01 ... 2.83166465e-04\n",
      "  8.82961857e-03 3.63576738e-02]]\n"
     ]
    },
    {
     "ename": "",
     "evalue": "",
     "output_type": "error",
     "traceback": [
      "\u001b[1;31mThe Kernel crashed while executing code in the current cell or a previous cell. \n",
      "\u001b[1;31mPlease review the code in the cell(s) to identify a possible cause of the failure. \n",
      "\u001b[1;31mClick <a href='https://aka.ms/vscodeJupyterKernelCrash'>here</a> for more info. \n",
      "\u001b[1;31mView Jupyter <a href='command:jupyter.viewOutput'>log</a> for further details."
     ]
    }
   ],
   "source": [
    "study = optuna.create_study(direction=\"maximize\")\n",
    "study.optimize(\n",
    "    objective,\n",
    "    n_trials=30,\n",
    "    timeout=600,\n",
    ")\n",
    "\n",
    "print(\"Number of finished trials: {}\".format(len(study.trials)))\n",
    "\n",
    "print(\"Best trial:\")\n",
    "trial = study.best_trial\n",
    "\n",
    "print(\"  Value: {}\".format(trial.value))\n",
    "\n",
    "print(\"  Params: \")\n",
    "\n",
    "for key, value in trial.params.items():\n",
    "    print(\"    {}: {}\".format(key, value))"
   ]
  }
 ],
 "metadata": {
  "kaggle": {
   "accelerator": "none",
   "dataSources": [
    {
     "databundleVersionId": 7659021,
     "sourceId": 68699,
     "sourceType": "competition"
    }
   ],
   "dockerImageVersionId": 30664,
   "isGpuEnabled": false,
   "isInternetEnabled": true,
   "language": "python",
   "sourceType": "notebook"
  },
  "kernelspec": {
   "display_name": "Python 3",
   "language": "python",
   "name": "python3"
  },
  "language_info": {
   "codemirror_mode": {
    "name": "ipython",
    "version": 3
   },
   "file_extension": ".py",
   "mimetype": "text/x-python",
   "name": "python",
   "nbconvert_exporter": "python",
   "pygments_lexer": "ipython3",
   "version": "3.12.2"
  },
  "papermill": {
   "default_parameters": {},
   "duration": 8.653851,
   "end_time": "2024-03-07T11:06:24.018495",
   "environment_variables": {},
   "exception": null,
   "input_path": "__notebook__.ipynb",
   "output_path": "__notebook__.ipynb",
   "parameters": {},
   "start_time": "2024-03-07T11:06:15.364644",
   "version": "2.5.0"
  }
 },
 "nbformat": 4,
 "nbformat_minor": 5
}
