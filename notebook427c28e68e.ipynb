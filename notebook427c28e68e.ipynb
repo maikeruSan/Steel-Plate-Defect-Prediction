{
 "cells": [
  {
   "cell_type": "code",
   "execution_count": 1,
   "id": "b67c900d",
   "metadata": {
    "_cell_guid": "b1076dfc-b9ad-4769-8c92-a6c4dae69d19",
    "_uuid": "8f2839f25d086af736a60e9eeb907d3b93b6e0e5",
    "execution": {
     "iopub.execute_input": "2024-03-07T11:06:18.208287Z",
     "iopub.status.busy": "2024-03-07T11:06:18.207908Z",
     "iopub.status.idle": "2024-03-07T11:06:22.825516Z",
     "shell.execute_reply": "2024-03-07T11:06:22.824284Z"
    },
    "papermill": {
     "duration": 4.624847,
     "end_time": "2024-03-07T11:06:22.828224",
     "exception": false,
     "start_time": "2024-03-07T11:06:18.203377",
     "status": "completed"
    },
    "tags": []
   },
   "outputs": [
    {
     "data": {
      "text/plain": [
       "polars.config.Config"
      ]
     },
     "execution_count": 1,
     "metadata": {},
     "output_type": "execute_result"
    }
   ],
   "source": [
    "from catboost import CatBoostClassifier\n",
    "from sklearn.model_selection import train_test_split\n",
    "from sklearn.metrics import roc_auc_score\n",
    "\n",
    "import polars as pl\n",
    "import pandas as pd\n",
    "import numpy as np\n",
    "\n",
    "import optuna\n",
    "from optuna.integration import CatBoostPruningCallback\n",
    "\n",
    "pl.Config().set_tbl_cols(128)\n",
    "pl.Config().set_tbl_rows(50)"
   ]
  },
  {
   "cell_type": "code",
   "execution_count": 20,
   "id": "7d9d7c38",
   "metadata": {},
   "outputs": [],
   "source": [
    "base = \"/home/michael/Datasets/playground-series-s4e3\"\n",
    "# base = \"/kaggle/input/playground-series-s4e3\""
   ]
  },
  {
   "cell_type": "code",
   "execution_count": 18,
   "id": "cc40d676",
   "metadata": {
    "execution": {
     "iopub.execute_input": "2024-03-07T11:06:22.835600Z",
     "iopub.status.busy": "2024-03-07T11:06:22.835056Z",
     "iopub.status.idle": "2024-03-07T11:06:23.033372Z",
     "shell.execute_reply": "2024-03-07T11:06:23.032412Z"
    },
    "papermill": {
     "duration": 0.204841,
     "end_time": "2024-03-07T11:06:23.036007",
     "exception": false,
     "start_time": "2024-03-07T11:06:22.831166",
     "status": "completed"
    },
    "tags": []
   },
   "outputs": [
    {
     "data": {
      "text/html": [
       "<div>\n",
       "<style scoped>\n",
       "    .dataframe tbody tr th:only-of-type {\n",
       "        vertical-align: middle;\n",
       "    }\n",
       "\n",
       "    .dataframe tbody tr th {\n",
       "        vertical-align: top;\n",
       "    }\n",
       "\n",
       "    .dataframe thead th {\n",
       "        text-align: right;\n",
       "    }\n",
       "</style>\n",
       "<table border=\"1\" class=\"dataframe\">\n",
       "  <thead>\n",
       "    <tr style=\"text-align: right;\">\n",
       "      <th></th>\n",
       "      <th>id</th>\n",
       "      <th>X_Minimum</th>\n",
       "      <th>X_Maximum</th>\n",
       "      <th>Y_Minimum</th>\n",
       "      <th>Y_Maximum</th>\n",
       "      <th>Pixels_Areas</th>\n",
       "      <th>X_Perimeter</th>\n",
       "      <th>Y_Perimeter</th>\n",
       "      <th>Sum_of_Luminosity</th>\n",
       "      <th>Minimum_of_Luminosity</th>\n",
       "      <th>...</th>\n",
       "      <th>Orientation_Index</th>\n",
       "      <th>Luminosity_Index</th>\n",
       "      <th>SigmoidOfAreas</th>\n",
       "      <th>Pastry</th>\n",
       "      <th>Z_Scratch</th>\n",
       "      <th>K_Scatch</th>\n",
       "      <th>Stains</th>\n",
       "      <th>Dirtiness</th>\n",
       "      <th>Bumps</th>\n",
       "      <th>Other_Faults</th>\n",
       "    </tr>\n",
       "  </thead>\n",
       "  <tbody>\n",
       "    <tr>\n",
       "      <th>10429</th>\n",
       "      <td>10429</td>\n",
       "      <td>1057</td>\n",
       "      <td>1084</td>\n",
       "      <td>1466087</td>\n",
       "      <td>1466141</td>\n",
       "      <td>979</td>\n",
       "      <td>118</td>\n",
       "      <td>79</td>\n",
       "      <td>118187</td>\n",
       "      <td>107</td>\n",
       "      <td>...</td>\n",
       "      <td>-0.3333</td>\n",
       "      <td>-0.1059</td>\n",
       "      <td>1.0000</td>\n",
       "      <td>0</td>\n",
       "      <td>0</td>\n",
       "      <td>0</td>\n",
       "      <td>0</td>\n",
       "      <td>0</td>\n",
       "      <td>1</td>\n",
       "      <td>0</td>\n",
       "    </tr>\n",
       "    <tr>\n",
       "      <th>11543</th>\n",
       "      <td>11543</td>\n",
       "      <td>0</td>\n",
       "      <td>9</td>\n",
       "      <td>424082</td>\n",
       "      <td>424112</td>\n",
       "      <td>109</td>\n",
       "      <td>12</td>\n",
       "      <td>29</td>\n",
       "      <td>14471</td>\n",
       "      <td>103</td>\n",
       "      <td>...</td>\n",
       "      <td>0.7188</td>\n",
       "      <td>-0.0955</td>\n",
       "      <td>0.2712</td>\n",
       "      <td>0</td>\n",
       "      <td>0</td>\n",
       "      <td>0</td>\n",
       "      <td>0</td>\n",
       "      <td>0</td>\n",
       "      <td>0</td>\n",
       "      <td>1</td>\n",
       "    </tr>\n",
       "    <tr>\n",
       "      <th>1033</th>\n",
       "      <td>1033</td>\n",
       "      <td>559</td>\n",
       "      <td>590</td>\n",
       "      <td>468317</td>\n",
       "      <td>468520</td>\n",
       "      <td>145</td>\n",
       "      <td>23</td>\n",
       "      <td>27</td>\n",
       "      <td>16908</td>\n",
       "      <td>91</td>\n",
       "      <td>...</td>\n",
       "      <td>0.7308</td>\n",
       "      <td>-0.1263</td>\n",
       "      <td>0.5096</td>\n",
       "      <td>0</td>\n",
       "      <td>0</td>\n",
       "      <td>0</td>\n",
       "      <td>0</td>\n",
       "      <td>0</td>\n",
       "      <td>0</td>\n",
       "      <td>1</td>\n",
       "    </tr>\n",
       "    <tr>\n",
       "      <th>12666</th>\n",
       "      <td>12666</td>\n",
       "      <td>39</td>\n",
       "      <td>58</td>\n",
       "      <td>776120</td>\n",
       "      <td>776424</td>\n",
       "      <td>117</td>\n",
       "      <td>44</td>\n",
       "      <td>27</td>\n",
       "      <td>13961</td>\n",
       "      <td>49</td>\n",
       "      <td>...</td>\n",
       "      <td>-0.6471</td>\n",
       "      <td>-0.1885</td>\n",
       "      <td>0.9999</td>\n",
       "      <td>0</td>\n",
       "      <td>0</td>\n",
       "      <td>1</td>\n",
       "      <td>0</td>\n",
       "      <td>0</td>\n",
       "      <td>0</td>\n",
       "      <td>0</td>\n",
       "    </tr>\n",
       "    <tr>\n",
       "      <th>10789</th>\n",
       "      <td>10789</td>\n",
       "      <td>899</td>\n",
       "      <td>907</td>\n",
       "      <td>1292292</td>\n",
       "      <td>1292296</td>\n",
       "      <td>11</td>\n",
       "      <td>3</td>\n",
       "      <td>3</td>\n",
       "      <td>1398</td>\n",
       "      <td>112</td>\n",
       "      <td>...</td>\n",
       "      <td>-0.5000</td>\n",
       "      <td>0.0007</td>\n",
       "      <td>0.1307</td>\n",
       "      <td>0</td>\n",
       "      <td>0</td>\n",
       "      <td>0</td>\n",
       "      <td>0</td>\n",
       "      <td>0</td>\n",
       "      <td>0</td>\n",
       "      <td>0</td>\n",
       "    </tr>\n",
       "    <tr>\n",
       "      <th>13456</th>\n",
       "      <td>13456</td>\n",
       "      <td>619</td>\n",
       "      <td>630</td>\n",
       "      <td>2046094</td>\n",
       "      <td>2046183</td>\n",
       "      <td>699</td>\n",
       "      <td>43</td>\n",
       "      <td>67</td>\n",
       "      <td>71112</td>\n",
       "      <td>88</td>\n",
       "      <td>...</td>\n",
       "      <td>0.8065</td>\n",
       "      <td>-0.2081</td>\n",
       "      <td>0.9964</td>\n",
       "      <td>0</td>\n",
       "      <td>0</td>\n",
       "      <td>0</td>\n",
       "      <td>0</td>\n",
       "      <td>0</td>\n",
       "      <td>0</td>\n",
       "      <td>1</td>\n",
       "    </tr>\n",
       "    <tr>\n",
       "      <th>9848</th>\n",
       "      <td>9848</td>\n",
       "      <td>983</td>\n",
       "      <td>1005</td>\n",
       "      <td>3283148</td>\n",
       "      <td>3283163</td>\n",
       "      <td>60</td>\n",
       "      <td>25</td>\n",
       "      <td>12</td>\n",
       "      <td>6761</td>\n",
       "      <td>80</td>\n",
       "      <td>...</td>\n",
       "      <td>-0.5667</td>\n",
       "      <td>-0.1832</td>\n",
       "      <td>0.2288</td>\n",
       "      <td>0</td>\n",
       "      <td>0</td>\n",
       "      <td>0</td>\n",
       "      <td>0</td>\n",
       "      <td>0</td>\n",
       "      <td>1</td>\n",
       "      <td>0</td>\n",
       "    </tr>\n",
       "    <tr>\n",
       "      <th>15343</th>\n",
       "      <td>15343</td>\n",
       "      <td>1110</td>\n",
       "      <td>1118</td>\n",
       "      <td>909876</td>\n",
       "      <td>909876</td>\n",
       "      <td>120</td>\n",
       "      <td>23</td>\n",
       "      <td>19</td>\n",
       "      <td>12235</td>\n",
       "      <td>79</td>\n",
       "      <td>...</td>\n",
       "      <td>0.7222</td>\n",
       "      <td>-0.2424</td>\n",
       "      <td>0.3509</td>\n",
       "      <td>0</td>\n",
       "      <td>0</td>\n",
       "      <td>0</td>\n",
       "      <td>0</td>\n",
       "      <td>0</td>\n",
       "      <td>0</td>\n",
       "      <td>1</td>\n",
       "    </tr>\n",
       "    <tr>\n",
       "      <th>3210</th>\n",
       "      <td>3210</td>\n",
       "      <td>756</td>\n",
       "      <td>780</td>\n",
       "      <td>679386</td>\n",
       "      <td>679391</td>\n",
       "      <td>267</td>\n",
       "      <td>21</td>\n",
       "      <td>26</td>\n",
       "      <td>26356</td>\n",
       "      <td>79</td>\n",
       "      <td>...</td>\n",
       "      <td>0.2857</td>\n",
       "      <td>-0.2745</td>\n",
       "      <td>0.5461</td>\n",
       "      <td>0</td>\n",
       "      <td>0</td>\n",
       "      <td>0</td>\n",
       "      <td>0</td>\n",
       "      <td>0</td>\n",
       "      <td>0</td>\n",
       "      <td>1</td>\n",
       "    </tr>\n",
       "    <tr>\n",
       "      <th>120</th>\n",
       "      <td>120</td>\n",
       "      <td>19</td>\n",
       "      <td>24</td>\n",
       "      <td>143523</td>\n",
       "      <td>143544</td>\n",
       "      <td>76</td>\n",
       "      <td>9</td>\n",
       "      <td>12</td>\n",
       "      <td>12593</td>\n",
       "      <td>107</td>\n",
       "      <td>...</td>\n",
       "      <td>0.6000</td>\n",
       "      <td>-0.0683</td>\n",
       "      <td>0.2432</td>\n",
       "      <td>0</td>\n",
       "      <td>0</td>\n",
       "      <td>0</td>\n",
       "      <td>0</td>\n",
       "      <td>0</td>\n",
       "      <td>0</td>\n",
       "      <td>1</td>\n",
       "    </tr>\n",
       "  </tbody>\n",
       "</table>\n",
       "<p>10 rows × 35 columns</p>\n",
       "</div>"
      ],
      "text/plain": [
       "          id  X_Minimum  X_Maximum  Y_Minimum  Y_Maximum  Pixels_Areas  \\\n",
       "10429  10429       1057       1084    1466087    1466141           979   \n",
       "11543  11543          0          9     424082     424112           109   \n",
       "1033    1033        559        590     468317     468520           145   \n",
       "12666  12666         39         58     776120     776424           117   \n",
       "10789  10789        899        907    1292292    1292296            11   \n",
       "13456  13456        619        630    2046094    2046183           699   \n",
       "9848    9848        983       1005    3283148    3283163            60   \n",
       "15343  15343       1110       1118     909876     909876           120   \n",
       "3210    3210        756        780     679386     679391           267   \n",
       "120      120         19         24     143523     143544            76   \n",
       "\n",
       "       X_Perimeter  Y_Perimeter  Sum_of_Luminosity  Minimum_of_Luminosity  \\\n",
       "10429          118           79             118187                    107   \n",
       "11543           12           29              14471                    103   \n",
       "1033            23           27              16908                     91   \n",
       "12666           44           27              13961                     49   \n",
       "10789            3            3               1398                    112   \n",
       "13456           43           67              71112                     88   \n",
       "9848            25           12               6761                     80   \n",
       "15343           23           19              12235                     79   \n",
       "3210            21           26              26356                     79   \n",
       "120              9           12              12593                    107   \n",
       "\n",
       "       ...  Orientation_Index  Luminosity_Index  SigmoidOfAreas  Pastry  \\\n",
       "10429  ...            -0.3333           -0.1059          1.0000       0   \n",
       "11543  ...             0.7188           -0.0955          0.2712       0   \n",
       "1033   ...             0.7308           -0.1263          0.5096       0   \n",
       "12666  ...            -0.6471           -0.1885          0.9999       0   \n",
       "10789  ...            -0.5000            0.0007          0.1307       0   \n",
       "13456  ...             0.8065           -0.2081          0.9964       0   \n",
       "9848   ...            -0.5667           -0.1832          0.2288       0   \n",
       "15343  ...             0.7222           -0.2424          0.3509       0   \n",
       "3210   ...             0.2857           -0.2745          0.5461       0   \n",
       "120    ...             0.6000           -0.0683          0.2432       0   \n",
       "\n",
       "       Z_Scratch  K_Scatch  Stains  Dirtiness  Bumps  Other_Faults  \n",
       "10429          0         0       0          0      1             0  \n",
       "11543          0         0       0          0      0             1  \n",
       "1033           0         0       0          0      0             1  \n",
       "12666          0         1       0          0      0             0  \n",
       "10789          0         0       0          0      0             0  \n",
       "13456          0         0       0          0      0             1  \n",
       "9848           0         0       0          0      1             0  \n",
       "15343          0         0       0          0      0             1  \n",
       "3210           0         0       0          0      0             1  \n",
       "120            0         0       0          0      0             1  \n",
       "\n",
       "[10 rows x 35 columns]"
      ]
     },
     "execution_count": 18,
     "metadata": {},
     "output_type": "execute_result"
    }
   ],
   "source": [
    "data = pd.read_csv(f\"{base}/train.csv\")\n",
    "data.sample(10)"
   ]
  },
  {
   "cell_type": "code",
   "execution_count": 22,
   "id": "51563143",
   "metadata": {
    "execution": {
     "iopub.execute_input": "2024-03-07T11:06:23.042558Z",
     "iopub.status.busy": "2024-03-07T11:06:23.042185Z",
     "iopub.status.idle": "2024-03-07T11:06:23.160209Z",
     "shell.execute_reply": "2024-03-07T11:06:23.159219Z"
    },
    "papermill": {
     "duration": 0.124268,
     "end_time": "2024-03-07T11:06:23.162890",
     "exception": false,
     "start_time": "2024-03-07T11:06:23.038622",
     "status": "completed"
    },
    "tags": []
   },
   "outputs": [],
   "source": [
    "# Separate features and labels\n",
    "X = data.drop([\"id\", \"Pastry\", \"Z_Scratch\", \"K_Scatch\", \"Stains\", \"Dirtiness\", \"Bumps\", \"Other_Faults\"], axis=1)\n",
    "y = data[[\"Pastry\", \"Z_Scratch\", \"K_Scatch\", \"Stains\", \"Dirtiness\", \"Bumps\", \"Other_Faults\"]]\n",
    "\n",
    "# Split the data into train and test sets\n",
    "X_optuna, X_test, y_optuna, y_test = train_test_split(X, y, test_size=0.1, random_state=42)"
   ]
  },
  {
   "cell_type": "code",
   "execution_count": 26,
   "id": "3817cf3c",
   "metadata": {
    "execution": {
     "iopub.execute_input": "2024-03-07T11:06:23.170261Z",
     "iopub.status.busy": "2024-03-07T11:06:23.169605Z",
     "iopub.status.idle": "2024-03-07T11:06:23.179541Z",
     "shell.execute_reply": "2024-03-07T11:06:23.178703Z"
    },
    "papermill": {
     "duration": 0.016131,
     "end_time": "2024-03-07T11:06:23.181792",
     "exception": false,
     "start_time": "2024-03-07T11:06:23.165661",
     "status": "completed"
    },
    "tags": []
   },
   "outputs": [],
   "source": [
    "def objective(trial):\n",
    "\n",
    "    X_opt, X_val, y_opt, y_val = train_test_split(X_optuna, y_optuna, test_size=0.1, random_state=42)\n",
    "\n",
    "    param = {\n",
    "        \"objective\": trial.suggest_categorical(\"objective\", [\"Logloss\", \"CrossEntropy\"]),\n",
    "        \"colsample_bylevel\": trial.suggest_float(\"colsample_bylevel\", 0.01, 0.1),\n",
    "        \"depth\": trial.suggest_int(\"depth\", 1, 12),\n",
    "        \"boosting_type\": trial.suggest_categorical(\"boosting_type\", [\"Ordered\", \"Plain\"]),\n",
    "        \"bootstrap_type\": trial.suggest_categorical(\"bootstrap_type\", [\"Bayesian\", \"Bernoulli\", \"MVS\"]),\n",
    "        \"task_type\": \"CPU\",\n",
    "    }\n",
    "\n",
    "    if param[\"bootstrap_type\"] == \"Bayesian\":\n",
    "        param[\"bagging_temperature\"] = trial.suggest_float(\"bagging_temperature\", 0, 10)\n",
    "    elif param[\"bootstrap_type\"] == \"Bernoulli\":\n",
    "        param[\"subsample\"] = trial.suggest_float(\"subsample\", 0.1, 1)\n",
    "\n",
    "    models = {}\n",
    "    for column in y_opt.columns:\n",
    "        model = CatBoostClassifier(**param)\n",
    "        model.fit(X_opt, y_opt[column], verbose=0)\n",
    "        models[column] = model\n",
    "\n",
    "    scores = {}\n",
    "    for column, model in models.items():\n",
    "        prediction = model.predict(X_val)\n",
    "        try:\n",
    "            scores[column] = roc_auc_score(prediction, y_val[column])\n",
    "        except ValueError:\n",
    "            print(f\"ROC AUC score cannot be computed for column {column} due to single class presence. Skipping this column.\")\n",
    "\n",
    "    metric = sum(scores.values()) / len(scores)\n",
    "    print(f\"scores:{scores}\\nAverage Score:{metric}\")\n",
    "\n",
    "    return metric"
   ]
  },
  {
   "cell_type": "code",
   "execution_count": 27,
   "id": "61682e99",
   "metadata": {
    "execution": {
     "iopub.execute_input": "2024-03-07T11:06:23.189029Z",
     "iopub.status.busy": "2024-03-07T11:06:23.188632Z",
     "iopub.status.idle": "2024-03-07T11:06:23.192855Z",
     "shell.execute_reply": "2024-03-07T11:06:23.191903Z"
    },
    "papermill": {
     "duration": 0.009943,
     "end_time": "2024-03-07T11:06:23.194937",
     "exception": false,
     "start_time": "2024-03-07T11:06:23.184994",
     "status": "completed"
    },
    "tags": []
   },
   "outputs": [
    {
     "name": "stderr",
     "output_type": "stream",
     "text": [
      "[I 2024-03-08 16:25:55,226] A new study created in memory with name: no-name-f8277637-097c-48cc-ae25-930ea53cb3ed\n",
      "[I 2024-03-08 16:26:37,726] Trial 0 finished with value: 0.7729290474671845 and parameters: {'objective': 'Logloss', 'colsample_bylevel': 0.04221436803286595, 'depth': 10, 'boosting_type': 'Ordered', 'bootstrap_type': 'MVS'}. Best is trial 0 with value: 0.7729290474671845.\n"
     ]
    },
    {
     "name": "stdout",
     "output_type": "stream",
     "text": [
      "scores:{'Pastry': 0.5657886241849054, 'Z_Scratch': 0.8534778368515431, 'K_Scatch': 0.9336279754981778, 'Stains': 0.8933748784584108, 'Dirtiness': 0.7872093023255814, 'Bumps': 0.7125398897592109, 'Other_Faults': 0.6644848251924624}\n",
      "Average Score:0.7729290474671845\n"
     ]
    },
    {
     "name": "stderr",
     "output_type": "stream",
     "text": [
      "[I 2024-03-08 16:27:08,782] Trial 1 finished with value: 0.7684955791607022 and parameters: {'objective': 'Logloss', 'colsample_bylevel': 0.03666960479462609, 'depth': 5, 'boosting_type': 'Ordered', 'bootstrap_type': 'Bernoulli', 'subsample': 0.5189766072148841}. Best is trial 0 with value: 0.7729290474671845.\n"
     ]
    },
    {
     "name": "stdout",
     "output_type": "stream",
     "text": [
      "scores:{'Pastry': 0.537799690641918, 'Z_Scratch': 0.8668928086838535, 'K_Scatch': 0.9315955554615708, 'Stains': 0.8861329715061058, 'Dirtiness': 0.8205500677900445, 'Bumps': 0.691993792253364, 'Other_Faults': 0.6445041677880587}\n",
      "Average Score:0.7684955791607022\n"
     ]
    },
    {
     "name": "stderr",
     "output_type": "stream",
     "text": [
      "[I 2024-03-08 16:31:33,590] Trial 2 finished with value: 0.7742402670569761 and parameters: {'objective': 'Logloss', 'colsample_bylevel': 0.09906204598249962, 'depth': 10, 'boosting_type': 'Ordered', 'bootstrap_type': 'Bernoulli', 'subsample': 0.1763219723026431}. Best is trial 2 with value: 0.7742402670569761.\n"
     ]
    },
    {
     "name": "stdout",
     "output_type": "stream",
     "text": [
      "scores:{'Pastry': 0.609000492809462, 'Z_Scratch': 0.8320859441479075, 'K_Scatch': 0.9336279754981778, 'Stains': 0.8947144204728722, 'Dirtiness': 0.8056745465122428, 'Bumps': 0.7015228065181812, 'Other_Faults': 0.643055683439989}\n",
      "Average Score:0.7742402670569761\n"
     ]
    },
    {
     "name": "stderr",
     "output_type": "stream",
     "text": [
      "[I 2024-03-08 16:31:46,408] Trial 3 finished with value: 0.7796419705535185 and parameters: {'objective': 'Logloss', 'colsample_bylevel': 0.08060451307949953, 'depth': 4, 'boosting_type': 'Plain', 'bootstrap_type': 'MVS'}. Best is trial 3 with value: 0.7796419705535185.\n"
     ]
    },
    {
     "name": "stdout",
     "output_type": "stream",
     "text": [
      "scores:{'Pastry': 0.6400842843520256, 'Z_Scratch': 0.8348092286304644, 'K_Scatch': 0.9291608391608391, 'Stains': 0.8731546326945555, 'Dirtiness': 0.8205500677900445, 'Bumps': 0.7060346450762569, 'Other_Faults': 0.6537000961704437}\n",
      "Average Score:0.7796419705535185\n"
     ]
    },
    {
     "name": "stderr",
     "output_type": "stream",
     "text": [
      "[I 2024-03-08 16:32:21,748] Trial 4 finished with value: 0.7706579236574687 and parameters: {'objective': 'Logloss', 'colsample_bylevel': 0.03193003111531745, 'depth': 2, 'boosting_type': 'Ordered', 'bootstrap_type': 'MVS'}. Best is trial 3 with value: 0.7796419705535185.\n"
     ]
    },
    {
     "name": "stdout",
     "output_type": "stream",
     "text": [
      "scores:{'Pastry': 0.537799690641918, 'Z_Scratch': 0.8411778374470723, 'K_Scatch': 0.9321289977878595, 'Stains': 0.9086939580086183, 'Dirtiness': 0.8205500677900445, 'Bumps': 0.6896817716157613, 'Other_Faults': 0.6645731423110061}\n",
      "Average Score:0.7706579236574687\n"
     ]
    },
    {
     "name": "stderr",
     "output_type": "stream",
     "text": [
      "[I 2024-03-08 16:32:53,972] Trial 5 finished with value: 0.7706861420078003 and parameters: {'objective': 'CrossEntropy', 'colsample_bylevel': 0.051971343718410314, 'depth': 3, 'boosting_type': 'Ordered', 'bootstrap_type': 'Bernoulli', 'subsample': 0.6643909595861944}. Best is trial 3 with value: 0.7796419705535185.\n"
     ]
    },
    {
     "name": "stdout",
     "output_type": "stream",
     "text": [
      "scores:{'Pastry': 0.5544927536231884, 'Z_Scratch': 0.8521225008719524, 'K_Scatch': 0.9336279754981778, 'Stains': 0.890552741686853, 'Dirtiness': 0.8056745465122428, 'Bumps': 0.6992822966507177, 'Other_Faults': 0.6590501792114695}\n",
      "Average Score:0.7706861420078003\n"
     ]
    },
    {
     "name": "stderr",
     "output_type": "stream",
     "text": [
      "[I 2024-03-08 16:33:40,268] Trial 6 finished with value: 0.7626759601811648 and parameters: {'objective': 'Logloss', 'colsample_bylevel': 0.08811667735303423, 'depth': 5, 'boosting_type': 'Ordered', 'bootstrap_type': 'MVS'}. Best is trial 3 with value: 0.7796419705535185.\n"
     ]
    },
    {
     "name": "stdout",
     "output_type": "stream",
     "text": [
      "scores:{'Pastry': 0.5548104956268222, 'Z_Scratch': 0.8421284541353646, 'K_Scatch': 0.9321289977878595, 'Stains': 0.8633403592663668, 'Dirtiness': 0.7872093023255814, 'Bumps': 0.7100407278832845, 'Other_Faults': 0.6490733842428758}\n",
      "Average Score:0.7626759601811648\n"
     ]
    },
    {
     "name": "stderr",
     "output_type": "stream",
     "text": [
      "[I 2024-03-08 16:33:50,667] Trial 7 finished with value: 0.7720765166352558 and parameters: {'objective': 'CrossEntropy', 'colsample_bylevel': 0.04535469699657453, 'depth': 9, 'boosting_type': 'Plain', 'bootstrap_type': 'Bernoulli', 'subsample': 0.7334860166997565}. Best is trial 3 with value: 0.7796419705535185.\n"
     ]
    },
    {
     "name": "stdout",
     "output_type": "stream",
     "text": [
      "scores:{'Pastry': 0.6049418604651163, 'Z_Scratch': 0.8571787731105438, 'K_Scatch': 0.9361830265081925, 'Stains': 0.881481947546691, 'Dirtiness': 0.7872093023255814, 'Bumps': 0.6915038407040047, 'Other_Faults': 0.6460368657866608}\n",
      "Average Score:0.7720765166352558\n"
     ]
    },
    {
     "name": "stderr",
     "output_type": "stream",
     "text": [
      "[I 2024-03-08 16:35:09,807] Trial 8 finished with value: 0.7773216562278753 and parameters: {'objective': 'CrossEntropy', 'colsample_bylevel': 0.05980820250101397, 'depth': 10, 'boosting_type': 'Ordered', 'bootstrap_type': 'Bernoulli', 'subsample': 0.9428026808507658}. Best is trial 3 with value: 0.7796419705535185.\n"
     ]
    },
    {
     "name": "stdout",
     "output_type": "stream",
     "text": [
      "scores:{'Pastry': 0.6218471090415211, 'Z_Scratch': 0.8374568577430972, 'K_Scatch': 0.9346128860804346, 'Stains': 0.8947144204728722, 'Dirtiness': 0.7954616728641191, 'Bumps': 0.7072038009150567, 'Other_Faults': 0.6499548464780253}\n",
      "Average Score:0.7773216562278753\n"
     ]
    },
    {
     "name": "stderr",
     "output_type": "stream",
     "text": [
      "[I 2024-03-08 16:36:17,909] Trial 9 finished with value: 0.7729251120223106 and parameters: {'objective': 'Logloss', 'colsample_bylevel': 0.04998823199869843, 'depth': 11, 'boosting_type': 'Ordered', 'bootstrap_type': 'Bernoulli', 'subsample': 0.7529759619847901}. Best is trial 3 with value: 0.7796419705535185.\n"
     ]
    },
    {
     "name": "stdout",
     "output_type": "stream",
     "text": [
      "scores:{'Pastry': 0.609000492809462, 'Z_Scratch': 0.844979851195017, 'K_Scatch': 0.9321289977878595, 'Stains': 0.8670708594414791, 'Dirtiness': 0.8205500677900445, 'Bumps': 0.6951565693330612, 'Other_Faults': 0.6415889457992507}\n",
      "Average Score:0.7729251120223106\n",
      "Number of finished trials: 10\n",
      "Best trial:\n",
      "  Value: 0.7796419705535185\n",
      "  Params: \n",
      "    objective: Logloss\n",
      "    colsample_bylevel: 0.08060451307949953\n",
      "    depth: 4\n",
      "    boosting_type: Plain\n",
      "    bootstrap_type: MVS\n"
     ]
    }
   ],
   "source": [
    "study = optuna.create_study(direction=\"maximize\")\n",
    "study.optimize(\n",
    "    objective,\n",
    "    n_trials=100,\n",
    "    timeout=600,\n",
    ")\n",
    "\n",
    "print(\"Number of finished trials: {}\".format(len(study.trials)))\n",
    "\n",
    "print(\"Best trial:\")\n",
    "trial = study.best_trial\n",
    "\n",
    "print(\"  Value: {}\".format(trial.value))\n",
    "\n",
    "print(\"  Params: \")\n",
    "\n",
    "for key, value in trial.params.items():\n",
    "    print(\"    {}: {}\".format(key, value))"
   ]
  }
 ],
 "metadata": {
  "kaggle": {
   "accelerator": "none",
   "dataSources": [
    {
     "databundleVersionId": 7659021,
     "sourceId": 68699,
     "sourceType": "competition"
    }
   ],
   "dockerImageVersionId": 30664,
   "isGpuEnabled": false,
   "isInternetEnabled": true,
   "language": "python",
   "sourceType": "notebook"
  },
  "kernelspec": {
   "display_name": "Python 3",
   "language": "python",
   "name": "python3"
  },
  "language_info": {
   "codemirror_mode": {
    "name": "ipython",
    "version": 3
   },
   "file_extension": ".py",
   "mimetype": "text/x-python",
   "name": "python",
   "nbconvert_exporter": "python",
   "pygments_lexer": "ipython3",
   "version": "3.11.8"
  },
  "papermill": {
   "default_parameters": {},
   "duration": 8.653851,
   "end_time": "2024-03-07T11:06:24.018495",
   "environment_variables": {},
   "exception": null,
   "input_path": "__notebook__.ipynb",
   "output_path": "__notebook__.ipynb",
   "parameters": {},
   "start_time": "2024-03-07T11:06:15.364644",
   "version": "2.5.0"
  }
 },
 "nbformat": 4,
 "nbformat_minor": 5
}
