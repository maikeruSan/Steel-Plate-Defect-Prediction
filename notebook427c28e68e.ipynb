{
 "cells": [
  {
   "cell_type": "code",
   "execution_count": 1,
   "id": "b67c900d",
   "metadata": {
    "_cell_guid": "b1076dfc-b9ad-4769-8c92-a6c4dae69d19",
    "_uuid": "8f2839f25d086af736a60e9eeb907d3b93b6e0e5",
    "execution": {
     "iopub.execute_input": "2024-03-07T11:06:18.208287Z",
     "iopub.status.busy": "2024-03-07T11:06:18.207908Z",
     "iopub.status.idle": "2024-03-07T11:06:22.825516Z",
     "shell.execute_reply": "2024-03-07T11:06:22.824284Z"
    },
    "papermill": {
     "duration": 4.624847,
     "end_time": "2024-03-07T11:06:22.828224",
     "exception": false,
     "start_time": "2024-03-07T11:06:18.203377",
     "status": "completed"
    },
    "tags": []
   },
   "outputs": [
    {
     "data": {
      "text/plain": [
       "polars.config.Config"
      ]
     },
     "execution_count": 1,
     "metadata": {},
     "output_type": "execute_result"
    }
   ],
   "source": [
    "from catboost import CatBoostClassifier\n",
    "from sklearn.model_selection import train_test_split\n",
    "from sklearn.metrics import roc_auc_score\n",
    "\n",
    "import polars as pl\n",
    "import pandas as pd\n",
    "import numpy as np\n",
    "\n",
    "import optuna\n",
    "from optuna.integration import CatBoostPruningCallback\n",
    "\n",
    "pl.Config().set_tbl_cols(128)\n",
    "pl.Config().set_tbl_rows(50)"
   ]
  },
  {
   "cell_type": "code",
   "execution_count": 2,
   "id": "cc40d676",
   "metadata": {
    "execution": {
     "iopub.execute_input": "2024-03-07T11:06:22.835600Z",
     "iopub.status.busy": "2024-03-07T11:06:22.835056Z",
     "iopub.status.idle": "2024-03-07T11:06:23.033372Z",
     "shell.execute_reply": "2024-03-07T11:06:23.032412Z"
    },
    "papermill": {
     "duration": 0.204841,
     "end_time": "2024-03-07T11:06:23.036007",
     "exception": false,
     "start_time": "2024-03-07T11:06:22.831166",
     "status": "completed"
    },
    "tags": []
   },
   "outputs": [],
   "source": [
    "data = pl.read_csv(\"/kaggle/input/playground-series-s4e3/train.csv\")\n",
    "submission_test = pl.read_csv(\"/kaggle/input/playground-series-s4e3/test.csv\")"
   ]
  },
  {
   "cell_type": "code",
   "execution_count": 3,
   "id": "51563143",
   "metadata": {
    "execution": {
     "iopub.execute_input": "2024-03-07T11:06:23.042558Z",
     "iopub.status.busy": "2024-03-07T11:06:23.042185Z",
     "iopub.status.idle": "2024-03-07T11:06:23.160209Z",
     "shell.execute_reply": "2024-03-07T11:06:23.159219Z"
    },
    "papermill": {
     "duration": 0.124268,
     "end_time": "2024-03-07T11:06:23.162890",
     "exception": false,
     "start_time": "2024-03-07T11:06:23.038622",
     "status": "completed"
    },
    "tags": []
   },
   "outputs": [],
   "source": [
    "data = pl.read_csv(\"/kaggle/input/playground-series-s4e3/train.csv\").to_pandas()\n",
    "submission_test = pl.read_csv(\"/kaggle/input/playground-series-s4e3/test.csv\").to_pandas()\n",
    "\n",
    "# Separate features and labels\n",
    "X = data.drop(['id', 'Pastry', 'Z_Scratch', 'K_Scatch', 'Stains', 'Dirtiness', 'Bumps', 'Other_Faults'], axis=1)\n",
    "y = data[['Pastry', 'Z_Scratch', 'K_Scatch', 'Stains', 'Dirtiness', 'Bumps', 'Other_Faults']]\n",
    "\n",
    "# Split the data into train and test sets\n",
    "X_optuna, X_test, y_optuna, y_test = train_test_split(X, y, test_size=0.2, random_state=42)"
   ]
  },
  {
   "cell_type": "code",
   "execution_count": 4,
   "id": "3817cf3c",
   "metadata": {
    "execution": {
     "iopub.execute_input": "2024-03-07T11:06:23.170261Z",
     "iopub.status.busy": "2024-03-07T11:06:23.169605Z",
     "iopub.status.idle": "2024-03-07T11:06:23.179541Z",
     "shell.execute_reply": "2024-03-07T11:06:23.178703Z"
    },
    "papermill": {
     "duration": 0.016131,
     "end_time": "2024-03-07T11:06:23.181792",
     "exception": false,
     "start_time": "2024-03-07T11:06:23.165661",
     "status": "completed"
    },
    "tags": []
   },
   "outputs": [],
   "source": [
    "def objective(trial):\n",
    "    \n",
    "    X_opt, X_val, y_opt, y_val = train_test_split(X_optuna, \n",
    "                                                  y_optuna, test_size=0.2, random_state=42)\n",
    "    \n",
    "    param = {\n",
    "        \"objective\": trial.suggest_categorical(\"objective\", [\"Logloss\", \"CrossEntropy\"]),\n",
    "        \"colsample_bylevel\": trial.suggest_float(\"colsample_bylevel\", 0.01, 0.1),\n",
    "        \"depth\": trial.suggest_int(\"depth\", 1, 12),\n",
    "        \"boosting_type\": trial.suggest_categorical(\"boosting_type\", [\"Ordered\", \"Plain\"]),\n",
    "        \"bootstrap_type\": trial.suggest_categorical(\n",
    "            \"bootstrap_type\", [\"Bayesian\", \"Bernoulli\", \"MVS\"]\n",
    "        ),\n",
    "    }\n",
    "\n",
    "    if param[\"bootstrap_type\"] == \"Bayesian\":\n",
    "        param[\"bagging_temperature\"] = trial.suggest_float(\"bagging_temperature\", 0, 10)\n",
    "    elif param[\"bootstrap_type\"] == \"Bernoulli\":\n",
    "        param[\"subsample\"] = trial.suggest_float(\"subsample\", 0.1, 1)\n",
    "        \n",
    "    \n",
    "    models = {}\n",
    "    for column in y_opt.columns:\n",
    "        model = CatBoostClassifier(**param)\n",
    "        model.fit(X_opt, y_opt[column],verbose=0)\n",
    "        models[column] = model\n",
    "        \n",
    "    scores = {}\n",
    "    for column, model in models.items():\n",
    "        prediction = model.predict(X_val)\n",
    "        try:\n",
    "            scores[column] = roc_auc_score(prediction, y_val[column])\n",
    "        except ValueError:\n",
    "            print(f\"ROC AUC score cannot be computed for column {column} due to single class presence. Skipping this column.\")\n",
    "\n",
    "        \n",
    "    \n",
    "    metric = sum(scores.values()) / len(scores)\n",
    "    print(f\"scores:{scores}\\nAverage Score:{metric}\")\n",
    "   \n",
    "    return metric\n",
    "    \n"
   ]
  },
  {
   "cell_type": "code",
   "execution_count": 5,
   "id": "61682e99",
   "metadata": {
    "execution": {
     "iopub.execute_input": "2024-03-07T11:06:23.189029Z",
     "iopub.status.busy": "2024-03-07T11:06:23.188632Z",
     "iopub.status.idle": "2024-03-07T11:06:23.192855Z",
     "shell.execute_reply": "2024-03-07T11:06:23.191903Z"
    },
    "papermill": {
     "duration": 0.009943,
     "end_time": "2024-03-07T11:06:23.194937",
     "exception": false,
     "start_time": "2024-03-07T11:06:23.184994",
     "status": "completed"
    },
    "tags": []
   },
   "outputs": [],
   "source": [
    "#study = optuna.create_study(direction=\"maximize\")\n",
    "#study.optimize(objective, n_trials=100, timeout=600,)\n",
    "\n",
    "#print(\"Number of finished trials: {}\".format(len(study.trials)))\n",
    "\n",
    "#print(\"Best trial:\")\n",
    "#trial = study.best_trial\n",
    "\n",
    "#print(\"  Value: {}\".format(trial.value))\n",
    "\n",
    "#print(\"  Params: \")\n",
    "\n",
    "#for key, value in trial.params.items():\n",
    "#    print(\"    {}: {}\".format(key, value))"
   ]
  }
 ],
 "metadata": {
  "kaggle": {
   "accelerator": "none",
   "dataSources": [
    {
     "databundleVersionId": 7659021,
     "sourceId": 68699,
     "sourceType": "competition"
    }
   ],
   "dockerImageVersionId": 30664,
   "isGpuEnabled": false,
   "isInternetEnabled": true,
   "language": "python",
   "sourceType": "notebook"
  },
  "kernelspec": {
   "display_name": "Python 3",
   "language": "python",
   "name": "python3"
  },
  "language_info": {
   "codemirror_mode": {
    "name": "ipython",
    "version": 3
   },
   "file_extension": ".py",
   "mimetype": "text/x-python",
   "name": "python",
   "nbconvert_exporter": "python",
   "pygments_lexer": "ipython3",
   "version": "3.10.13"
  },
  "papermill": {
   "default_parameters": {},
   "duration": 8.653851,
   "end_time": "2024-03-07T11:06:24.018495",
   "environment_variables": {},
   "exception": null,
   "input_path": "__notebook__.ipynb",
   "output_path": "__notebook__.ipynb",
   "parameters": {},
   "start_time": "2024-03-07T11:06:15.364644",
   "version": "2.5.0"
  }
 },
 "nbformat": 4,
 "nbformat_minor": 5
}
